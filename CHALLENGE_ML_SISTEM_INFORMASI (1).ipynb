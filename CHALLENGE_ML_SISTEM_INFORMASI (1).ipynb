{
  "nbformat": 4,
  "nbformat_minor": 0,
  "metadata": {
    "colab": {
      "provenance": []
    },
    "kernelspec": {
      "name": "python3",
      "display_name": "Python 3"
    },
    "language_info": {
      "name": "python"
    }
  },
  "cells": [
    {
      "cell_type": "code",
      "execution_count": 3,
      "metadata": {
        "colab": {
          "base_uri": "https://localhost:8080/"
        },
        "id": "qaPzR2_Pf4pX",
        "outputId": "a0b11dd9-367c-4bfe-f458-53fb5e8ebd67"
      },
      "outputs": [
        {
          "output_type": "stream",
          "name": "stdout",
          "text": [
            "Prediksi pengiriman paket untuk Pelanggan 1 dengan pembelian kategori Elektronik: Elektronik\n",
            "Prediksi pengiriman paket untuk Pelanggan 2 dengan pembelian kategori Makanan: Makanan\n",
            "Prediksi pengiriman paket untuk Pelanggan 3 dengan pembelian kategori Perawatan Kesehatan: Perawatan Kesehatan\n",
            "Struktur Pohon Keputusan:\n",
            "|--- Cluster <= 0.50\n",
            "|   |--- class: Makanan\n",
            "|--- Cluster >  0.50\n",
            "|   |--- Cluster <= 1.50\n",
            "|   |   |--- class: Perawatan Kesehatan\n",
            "|   |--- Cluster >  1.50\n",
            "|   |   |--- class: Elektronik\n",
            "\n"
          ]
        },
        {
          "output_type": "stream",
          "name": "stderr",
          "text": [
            "/usr/local/lib/python3.10/dist-packages/sklearn/cluster/_kmeans.py:870: FutureWarning: The default value of `n_init` will change from 10 to 'auto' in 1.4. Set the value of `n_init` explicitly to suppress the warning\n",
            "  warnings.warn(\n"
          ]
        }
      ],
      "source": [
        "import numpy as np\n",
        "from sklearn.cluster import KMeans\n",
        "from sklearn.naive_bayes import MultinomialNB\n",
        "from sklearn.tree import DecisionTreeClassifier\n",
        "from sklearn.feature_extraction import DictVectorizer\n",
        "from sklearn.tree import export_text\n",
        "\n",
        "\n",
        "# Data pelanggan dengan atribut usia, jenis kelamin, pendapatan, dan kategori pembelian\n",
        "customer_data = {},\n",
        "    # Tambahkan data pelanggan lainnya jika diperlukan\n",
        "\n",
        "# Melakukan k-means clustering\n",
        "def kmeans():\n",
        "    # Mengubah data menjadi format yang sesuai untuk k-means clustering\n",
        "    X = []\n",
        "    for customer, attributes in customer_data.items():\n",
        "        X.append([attributes[\"usia\"], attributes[\"pendapatan\"]])\n",
        "    \n",
        "    # Membangun model k-means clustering\n",
        "    kmeans = KMeans(n_clusters=3)\n",
        "    kmeans.fit(X)\n",
        "    \n",
        "    # Mendapatkan hasil kelompok untuk setiap pelanggan\n",
        "    customer_clusters = {}\n",
        "    for i, customer in enumerate(customer_data.keys()):\n",
        "        customer_clusters[customer] = kmeans.labels_[i]\n",
        "    \n",
        "    return customer_clusters\n",
        "\n",
        "# Melakukan analisis pembelian dengan kolaborasi Naive Bayes\n",
        "def analyze_pur(customer_clusters):\n",
        "    # Mengubah data menjadi format yang sesuai untuk kolaborasi Naive Bayes\n",
        "    X = []\n",
        "    y = []\n",
        "    for customer, attributes in customer_data.items():\n",
        "        X.append(attributes)\n",
        "        cluster = customer_clusters[customer]\n",
        "        y.append(attributes[\"kategori_pembelian\"])\n",
        "    \n",
        "    # Membangun model kolaborasi Naive Bayes\n",
        "    vectorizer = DictVectorizer()\n",
        "    X_transformed = vectorizer.fit_transform(X)\n",
        "    naive_bayes = MultinomialNB()\n",
        "    naive_bayes.fit(X_transformed, y)\n",
        "    \n",
        "    # Mendapatkan hasil analisis pembelian untuk setiap kelompok\n",
        "    cluster_purchases = {}\n",
        "    for customer, attributes in customer_data.items():\n",
        "        cluster = customer_clusters[customer]\n",
        "        purchase_category = attributes[\"kategori_pembelian\"]\n",
        "        if cluster not in cluster_purchases:\n",
        "            cluster_purchases[cluster] = []\n",
        "        cluster_purchases[cluster].append(purchase_category)\n",
        "    \n",
        "    return cluster_purchases\n",
        "\n",
        "# Membangun pohon keputusan berdasarkan hasil analisis\n",
        "def build(cluster_purchases):\n",
        "    # Mengubah data menjadi format yang sesuai untuk pohon keputusan\n",
        "    X = []\n",
        "    y = []\n",
        "    for cluster, purchases in cluster_purchases.items():\n",
        "        for purchase in purchases:\n",
        "            X.append(cluster)\n",
        "            y.append(purchase)\n",
        "    \n",
        "    # Membangun pohon keputusan\n",
        "    decision_tree = DecisionTreeClassifier()\n",
        "    decision_tree.fit(np.array(X).reshape(-1, 1), y)\n",
        "    \n",
        "    return decision_tree\n",
        "\n",
        "# Melakukan prediksi pengiriman paket berdasarkan pohon keputusan\n",
        "def predict_del(customer, purchase_category, decision_tree):\n",
        "    # Melakukan prediksi pengiriman paket\n",
        "    prediction = decision_tree.predict([[customer_clusters[customer]]])\n",
        "    \n",
        "    # Menampilkan hasil prediksi\n",
        "    print(f\"Prediksi pengiriman paket untuk {customer} dengan pembelian kategori {purchase_category}: {prediction[0]}\")\n",
        "\n",
        "# Menampilkan struktur pohon keputusan\n",
        "def display_dec(decision_tree):\n",
        "    tree_text = export_text(decision_tree, feature_names=[\"Cluster\"])\n",
        "    print(\"Struktur Pohon Keputusan:\")\n",
        "    print(tree_text)\n",
        "\n",
        "# Menjalankan alur pemrosesan\n",
        "customer_clusters = kmeans_clustering()\n",
        "cluster_purchases = analyze_purchases(customer_clusters)\n",
        "decision_tree = build_decision_tree(cluster_purchases)\n",
        "\n",
        "predict_delivery(\"Pelanggan 1\", \"Elektronik\", decision_tree)\n",
        "predict_delivery(\"Pelanggan 2\", \"Makanan\", decision_tree)\n",
        "predict_delivery(\"Pelanggan 3\", \"Perawatan Kesehatan\", decision_tree)\n",
        "\n",
        "display_decision_tree(decision_tree)"
      ]
    }
  ]
}